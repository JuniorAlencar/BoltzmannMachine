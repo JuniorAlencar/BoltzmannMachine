{
 "cells": [
  {
   "cell_type": "code",
   "execution_count": 2,
   "metadata": {},
   "outputs": [],
   "source": [
    "import pandas as pd\n",
    "import matplotlib.pyplot as plt\n",
    "import re\n",
    "import numpy as np\n",
    "import sys\n"
   ]
  },
  {
   "cell_type": "code",
   "execution_count": 4,
   "metadata": {},
   "outputs": [],
   "source": [
    "import glob \n",
    "import os\n",
    "import re\n",
    "import pandas as pd"
   ]
  },
  {
   "cell_type": "code",
   "execution_count": 37,
   "metadata": {},
   "outputs": [],
   "source": [
    "def to_scientific(value):\n",
    "    return float(f\"{value:.2e}\")"
   ]
  },
  {
   "cell_type": "code",
   "execution_count": 5,
   "metadata": {},
   "outputs": [],
   "source": [
    "folder = \"../Results_Metropolis\"\n",
    "all_files = glob.glob(os.path.join(folder,\"*.txt\"))\n",
    "\n",
    "pd.options.display.float_format = \"{:.2e}\".format\n",
    "t_eq = 3000\n",
    "pattern = fr\"err_sampleN20_j_min_([+-]?\\d+\\.?\\d*[eE][+-]?\\d+|[+-]?\\d+\\.?\\d*)_h_min_([+-]?\\d+\\.?\\d*[eE][+-]?\\d+|[+-]?\\d+\\.?\\d*)_t_eq_{t_eq}_metropolis\\.txt\"\n",
    "\n",
    "j_data = []\n",
    "h_data = []\n",
    "j_set = []\n",
    "h_set = []\n",
    "t_eq_set = []\n",
    "\n",
    "for file in all_files:\n",
    "    filename = os.path.basename(file)\n",
    "    match = re.match(pattern, filename)\n",
    "    if match:\n",
    "        # Extract values as strings\n",
    "        j_min_match, h_min_match = match.groups()[0:3]\n",
    "        \n",
    "        # Convert to float and format in scientific notation\n",
    "        j_min_sci = float(format(float(j_min_match), \".2e\"))\n",
    "        h_min_sci = float(format(float(h_min_match), \".2e\"))\n",
    "        t_eq = int(t_eq)\n",
    "\n",
    "        j_set.append(j_min_sci)\n",
    "        h_set.append(h_min_sci)\n",
    "        t_eq_set.append(t_eq)\n",
    "    \n",
    "    df = pd.read_csv(file, delimiter=' ', header=None)\n",
    "    df.columns = [\"MCS\", \"Err_j\", \"Err_h\"]\n",
    "    j_min_data = df[\"Err_j\"].min()\n",
    "    h_min_data = df[\"Err_h\"].min()\n",
    "    j_data.append(j_min_data)\n",
    "    h_data.append(h_min_data)\n",
    "df_my = pd.DataFrame(data = {\"j_data\":j_data, \"j_set\":j_set, \"h_data\":h_data,\"h_set\":h_set,\"t_eq_set\":t_eq_set})\n",
    "df_my = df_my.sort_values(by=[\"h_set\", \"j_set\"], ascending=[False, False])"
   ]
  },
  {
   "cell_type": "code",
   "execution_count": 6,
   "metadata": {},
   "outputs": [
    {
     "data": {
      "text/plain": [
       "'8.43e-04'"
      ]
     },
     "execution_count": 6,
     "metadata": {},
     "output_type": "execute_result"
    }
   ],
   "source": [
    "f\"{df_my['j_data'].min():.2e}\""
   ]
  },
  {
   "cell_type": "code",
   "execution_count": 13,
   "metadata": {},
   "outputs": [
    {
     "name": "stdout",
     "output_type": "stream",
     "text": [
      "    j_data    j_set   h_data    h_set  t_eq_set\n",
      "2 9.11e-04 9.10e-05 6.11e-04 4.20e-05      3000\n",
      "7 9.13e-04 9.10e-05 5.33e-04 4.00e-05      3000\n",
      "6 8.71e-04 9.10e-05 5.32e-04 3.80e-05      3000\n",
      "    j_data    j_set   h_data    h_set  t_eq_set\n",
      "1 8.43e-04 8.90e-05 5.72e-04 4.20e-05      3000\n",
      "3 9.42e-04 8.90e-05 6.10e-04 4.00e-05      3000\n",
      "4 9.31e-04 8.90e-05 5.60e-04 3.80e-05      3000\n",
      "    j_data    j_set   h_data    h_set  t_eq_set\n",
      "0 8.87e-04 8.70e-05 5.69e-04 4.20e-05      3000\n",
      "8 9.04e-04 8.70e-05 6.13e-04 4.00e-05      3000\n",
      "5 9.39e-04 8.70e-05 5.27e-04 3.80e-05      3000\n"
     ]
    }
   ],
   "source": [
    "j_set_unique = df_my['j_set'].unique()\n",
    "for i in j_set_unique:\n",
    "    print(df_my[df_my['j_set']==i])"
   ]
  },
  {
   "cell_type": "code",
   "execution_count": 6,
   "metadata": {},
   "outputs": [],
   "source": [
    "import os\n",
    "\n",
    "def sn(number):\n",
    "    return f\"{number:.2e}\"\n",
    "\n",
    "\n",
    "multiply_teq = 150\n",
    "sample_data = \"sampleN20\"\n",
    "input_data = \"../Data/TidyData/\" + sample_data + \".dat\"\n",
    "\n",
    "with open(input_data, 'r') as file:\n",
    "    # Read the first line\n",
    "    first_line = file.readline().strip()\n",
    "\n",
    "    # Split the line into columns based on whitespace\n",
    "    columns = first_line.split(',')\n",
    "\n",
    "    # Count the number of columns\n",
    "    nspins = len(columns)\n",
    "\n",
    "t_eq = multiply_teq * nspins\n",
    "use_exact = 'true'\n",
    "\n",
    "j_min_set = [sn(9.17e-04), sn(9.17e-04), sn(9.17e-04)]\n",
    "h_min_set = [sn(5.76e-04), sn(5.76e-04), sn(5.76e-04)]\n",
    "#t_eq_set = [t_eq for i in range(len(j_min_set))]\n",
    "method_set = [use_exact for i in range(len(j_min_set))]\n",
    "filename_set = [\"sampleN20\" for i in range(len(j_min_set))]\n",
    "\n",
    "filename = f\"multithread_local.sh\"\n",
    "\n",
    "a = \"#!/bin/bash\\n\\n\"\n",
    "\n",
    "b = \"\\t# Define uma função que contêm o código para rodar em paralelo\\n\"\n",
    "c = \"\\trun_code() {\\n\"\n",
    "c1 = \"\"\"\\t\\tlocal \\t filename=\"$1\" \\n\"\"\"\n",
    "c2 = \"\"\"\\t\\tlocal \\t err_min_j=\"$2\" \\n\"\"\"\n",
    "c3 = \"\"\"\\t\\tlocal \\t err_min_h=\"$3\" \\n\"\"\"\n",
    "c4 = \"\"\"\\t\\tlocal \\t exact_solution=\"$4\" \\n\"\"\"\n",
    "d = f\"\\t\\ttime ./main_single.sh $filename $err_min_j $err_min_h $exact_solution\\n\"\n",
    "d1 = \"\"\"\\t\\techo \"running: $filename $err_min_j $err_min_h $exact_solutions\"\\n \"\"\"\n",
    "d2 = \"\\t\\tsleep 2\\n\"\n",
    "e = \"\\t\\t}\\n\"\n",
    "f = \"# Exportar a função usando o módulo Parallel\\n\"\n",
    "g = \"export -f run_code\\n\\n\"\n",
    "\n",
    "parameters = [str((i,j,k,l)) for i,j,k,l in zip(filename_set, j_min_set, h_min_set, method_set)]\n",
    "aux_lst = [parameters[i].replace(',','') for i in range(len(parameters))]\n",
    "my_parameters = ' '.join(aux_lst)\n",
    "\n",
    "h = f\"args=({my_parameters})\\n\\n\"\n",
    "i = \"# Executa os comandos em paralelo\\n\"\n",
    "j = \"\"\"for group in \"${args[@]}\"; do\\n\"\"\"\n",
    "k = \"\"\"\\tclean_group=$(echo \"$group\" | tr -d '()' | tr -d \"'\" | xargs)\\n\"\"\"\n",
    "l = \"\"\"\\techo \"$clean_group\"\\n\"\"\"\n",
    "m = \"done | parallel -j $(nproc) --colsep ' ' run_code {1} {2} {3} {4} \"\n",
    "lst_loop = [a+b+c+c1+c2+c3+c4+d+d1+d2+e+f+g+h+i+j+k+l+m]\n",
    "# j = \"\"\"for arg_set in \"${args[@]}\"; do\\n\"\"\"\n",
    "# k = \"\\t(\\n\"\n",
    "# l = \"\\t\\t# Passa os argumentos individuais para a função\\n\"\n",
    "# m =\"\"\"\\t\\trun_code \"${arg_set[@]}\" \\n\"\"\"\n",
    "# n = \"\\t) &\\n\"\n",
    "# o = \"done\\n\\n\"\n",
    "# o1 =\"# Wait for all background processes to finish\\n\"\n",
    "# p = \"wait\"\n",
    "#lst_loop = [a+b+c+c1+c2+c3+c4+d+d1+d2+e+f+g+h+i+j+k+l+m+n+o+o1+p]\n",
    "x = open(\"../Scripts/\" +filename, \"w\") # argument w: write if don't exist file\n",
    "\n",
    "for k in lst_loop:\n",
    "    x.write(k)\n",
    "x.close()\n",
    "\n",
    "def permission_run():\n",
    "    os.system(\"chmod +x ../Scripts/multithread_local.sh\")\n",
    "permission_run()"
   ]
  },
  {
   "cell_type": "code",
   "execution_count": 5,
   "metadata": {},
   "outputs": [],
   "source": []
  },
  {
   "cell_type": "code",
   "execution_count": 11,
   "metadata": {},
   "outputs": [
    {
     "data": {
      "image/png": "[encoded data removed]",
      "text/plain": [
       "<Figure size 640x480 with 1 Axes>"
      ]
     },
     "metadata": {},
     "output_type": "display_data"
    }
   ],
   "source": [
    "plt.plot(df_my['j_set'],df_my['j_data'],'o')\n",
    "plt.show()"
   ]
  },
  {
   "cell_type": "code",
   "execution_count": 51,
   "metadata": {},
   "outputs": [
    {
     "data": {
      "text/plain": [
       "'9.05e-04'"
      ]
     },
     "execution_count": 51,
     "metadata": {},
     "output_type": "execute_result"
    }
   ],
   "source": [
    "mean_j_data = f\"{df_my[\"j_data\"].mean():.2e}\"\n",
    "mean_j_data\n"
   ]
  },
  {
   "cell_type": "code",
   "execution_count": null,
   "metadata": {},
   "outputs": [],
   "source": [
    "import json"
   ]
  },
  {
   "cell_type": "code",
   "execution_count": null,
   "metadata": {},
   "outputs": [],
   "source": [
    "f = open('../Results/sampleN20.json')\n",
    "\n",
    "# returns JSON object as \n",
    "# a dictionary\n",
    "data = json.load(f)\n",
    "# Print all keys in the JSON dictionary\n",
    "for key in data.keys():\n",
    "    print(key)"
   ]
  },
  {
   "cell_type": "code",
   "execution_count": null,
   "metadata": {},
   "outputs": [],
   "source": [
    "S_ising = data['S']\n",
    "S_exp = data['S_obs']"
   ]
  },
  {
   "cell_type": "code",
   "execution_count": null,
   "metadata": {},
   "outputs": [],
   "source": [
    "plt.plot(S_exp,S_ising,'o')\n",
    "plt.show()"
   ]
  },
  {
   "cell_type": "code",
   "execution_count": 36,
   "metadata": {},
   "outputs": [
    {
     "name": "stdout",
     "output_type": "stream",
     "text": [
      "Extracted values: value1=1.23e-10, value2=4.56e+20, value3=30\n",
      "value1: 1.23e-10, value2: 4.56e+20, value3: 3.00e+01\n"
     ]
    }
   ],
   "source": [
    "import re\n",
    "\n",
    "# Updated pattern to match scientific notation values and ensure proper capture\n",
    "pattern = r\"err_sampleN20_j_min_([+-]?\\d+\\.?\\d*[eE][+-]?\\d+|[+-]?\\d+\\.?\\d*)_h_min_([+-]?\\d+\\.?\\d*[eE][+-]?\\d+|[+-]?\\d+\\.?\\d*)_t_eq_(\\d+)_metropolis\\.txt\"\n",
    "\n",
    "# Sample filename\n",
    "filename = \"err_sampleN20_j_min_1.23e-10_h_min_4.56e+20_t_eq_30_metropolis.txt\"\n",
    "\n",
    "# Match the pattern\n",
    "match = re.match(pattern, filename)\n",
    "\n",
    "if match:\n",
    "    # Extract values as strings\n",
    "    value1, value2, value3 = match.groups()\n",
    "    \n",
    "    # Print extracted values for debugging\n",
    "    print(f\"Extracted values: value1={value1}, value2={value2}, value3={value3}\")\n",
    "    \n",
    "    try:\n",
    "        # Convert to float and format in scientific notation\n",
    "        value1_sci = format(float(value1), \".2e\")\n",
    "        value2_sci = format(float(value2), \".2e\")\n",
    "        value3_sci = format(float(value3), \".2e\")  # Assuming value3 is an integer\n",
    "        \n",
    "        print(f\"value1: {value1_sci}, value2: {value2_sci}, value3: {value3_sci}\")\n",
    "    except ValueError as e:\n",
    "        print(f\"Error converting value: {e}\")\n",
    "else:\n",
    "    print(\"No match found\")\n"
   ]
  }
 ],
 "metadata": {
  "kernelspec": {
   "display_name": "Python 3",
   "language": "python",
   "name": "python3"
  },
  "language_info": {
   "codemirror_mode": {
    "name": "ipython",
    "version": 3
   },
   "file_extension": ".py",
   "mimetype": "text/x-python",
   "name": "python",
   "nbconvert_exporter": "python",
   "pygments_lexer": "ipython3",
   "version": "3.12.3"
  }
 },
 "nbformat": 4,
 "nbformat_minor": 2
}
