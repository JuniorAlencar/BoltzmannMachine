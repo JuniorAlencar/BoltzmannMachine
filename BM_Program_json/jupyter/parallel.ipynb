{
 "cells": [
  {
   "cell_type": "code",
   "execution_count": 2,
   "metadata": {},
   "outputs": [],
   "source": [
    "from src.multithread_functions import *"
   ]
  },
  {
   "cell_type": "code",
   "execution_count": 3,
   "metadata": {},
   "outputs": [
    {
     "name": "stderr",
     "output_type": "stream",
     "text": [
      "cc1plus: fatal error: ProcessingData.cpp: No such file or directory\n",
      "compilation terminated.\n",
      "cc1plus: fatal error: BMfinal.cpp: No such file or directory\n",
      "compilation terminated.\n",
      "cc1plus: fatal error: SpecificHeat.cpp: No such file or directory\n",
      "compilation terminated.\n"
     ]
    }
   ],
   "source": [
    "j_min = [format(1.17e-03, '.2e'), format(1.05e-03, '.2e'), format(1.04e-03, '.2e'), format(1.07e-03, '.2e'), format(1.02e-03, '.2e')]\n",
    "h_min = [format(1.08e-03, '.2e'), format(1.12e-03, '.2e'), format(1.05e-03, '.2e'), format(9.20e-04, '.2e'), format(8.36e-04, '.2e')]\n",
    "m_teq = [300 for i in range(len(j_min))]\n",
    "filename = [\"sampleCarmona\" for i in range(len(j_min))]\n",
    "m_relx = [2 for i in range(len(j_min))]\n",
    "method = ['false' for i in range(len(j_min))]\n",
    "\n",
    "multithread_local(filename, j_min, h_min, m_teq, m_relx, method)"
   ]
  },
  {
   "cell_type": "code",
   "execution_count": null,
   "metadata": {},
   "outputs": [],
   "source": [
    "# \n",
    "\n"
   ]
  }
 ],
 "metadata": {
  "kernelspec": {
   "display_name": "Python 3",
   "language": "python",
   "name": "python3"
  },
  "language_info": {
   "codemirror_mode": {
    "name": "ipython",
    "version": 3
   },
   "file_extension": ".py",
   "mimetype": "text/x-python",
   "name": "python",
   "nbconvert_exporter": "python",
   "pygments_lexer": "ipython3",
   "version": "3.10.12"
  }
 },
 "nbformat": 4,
 "nbformat_minor": 2
}
