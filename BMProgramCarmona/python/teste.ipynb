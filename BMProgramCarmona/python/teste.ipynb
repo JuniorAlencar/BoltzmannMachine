{
 "cells": [
  {
   "cell_type": "code",
   "execution_count": 1,
   "metadata": {},
   "outputs": [],
   "source": [
    "import pandas as pd\n",
    "import matplotlib.pyplot as plt\n",
    "import re\n",
    "import numpy as np\n",
    "import sys\n",
    "import os"
   ]
  },
  {
   "cell_type": "code",
   "execution_count": 2,
   "metadata": {},
   "outputs": [],
   "source": [
    "import json"
   ]
  },
  {
   "cell_type": "code",
   "execution_count": 5,
   "metadata": {},
   "outputs": [
    {
     "name": "stdout",
     "output_type": "stream",
     "text": [
      "J\n",
      "S\n",
      "SS\n",
      "SSS\n",
      "SSS_obs\n",
      "SS_obs\n",
      "S_obs\n",
      "h\n",
      "n_bonds\n",
      "n_spins\n",
      "σ\n"
     ]
    }
   ],
   "source": [
    "f = open('../Results/sampleN20.json')\n",
    "\n",
    "# returns JSON object as \n",
    "# a dictionary\n",
    "data = json.load(f)\n",
    "# Print all keys in the JSON dictionary\n",
    "for key in data.keys():\n",
    "    print(key)"
   ]
  },
  {
   "cell_type": "code",
   "execution_count": 6,
   "metadata": {},
   "outputs": [],
   "source": [
    "S_ising = data['S']\n",
    "S_exp = data['S_obs']"
   ]
  },
  {
   "cell_type": "code",
   "execution_count": 8,
   "metadata": {},
   "outputs": [
    {
     "data": {
      "image/png": "[encoded data removed]",
      "text/plain": [
       "<Figure size 640x480 with 1 Axes>"
      ]
     },
     "metadata": {},
     "output_type": "display_data"
    }
   ],
   "source": [
    "plt.plot(S_exp,S_ising,'o')\n",
    "plt.show()"
   ]
  },
  {
   "cell_type": "code",
   "execution_count": null,
   "metadata": {},
   "outputs": [],
   "source": [
    "parms = 'h'\n",
    "exact_solution = True\n",
    "N_spins = 20\n",
    "save = False\n",
    "\n",
    "# Create folder to test_erro\n",
    "folder = f\"./tests_erro/{parms}\"\n",
    "if not os.path.exists(folder):\n",
    "    os.makedirs(folder)\n",
    "f = open('../Results/sampleN20.json')\n",
    "\n",
    "# returns JSON object as \n",
    "# a dictionary\n",
    "data = json.load(f)\n",
    "\n",
    "plt.figure(figsize=(16,9))\n",
    "if parms==\"J\":\n",
    "    y = df[\"erroJ\"]\n",
    "    if len(y)==1:\n",
    "        print(f'erro_{parms} Atinge mínimo com um MCH para Nspins = {N_spins}')\n",
    "    else:\n",
    "        y_lim = np.ones(len(y))*9.1e-05\n",
    "\n",
    "elif parms==\"h\":\n",
    "    y = df[\"erroh\"]\n",
    "    if len(y)==1:\n",
    "        print(f'erro_{parms} Atinge mínimo com um MCH para Nspins = {N_spins}')\n",
    "    else:\n",
    "        y_lim = np.ones(len(y))*4.2e-05\n",
    "\n",
    "# Clear previous plot\n",
    "#print(float(min_values['min_erro_j']))\n",
    "plt.yscale(\"log\")\n",
    "plt.plot(x,y,'-',color='k')\n",
    "plt.plot(x,y_lim,'--',color='red')\n",
    "plt.xlabel(\"MCS\",fontsize=22)\n",
    "plt.ylabel(f\"Erro {parms}\",fontsize=22)\n",
    "plt.xlim(min(x),max(x))\n",
    "plt.title(f\"Erro {parms} para Nspins = {N_spins}\",fontsize=25)\n",
    "\n",
    "if(save == True):\n",
    "    j_min = 1.0\n",
    "    h_min = 1.0\n",
    "    \n",
    "    plt.savefig(folder + f\"/sampleN{N_spins}_parm_{parms}_j_{j_min}_h_{h_min}.pdf\", dpi=300)\n",
    "    \n",
    "plt.show()"
   ]
  }
 ],
 "metadata": {
  "kernelspec": {
   "display_name": "Python 3",
   "language": "python",
   "name": "python3"
  },
  "language_info": {
   "codemirror_mode": {
    "name": "ipython",
    "version": 3
   },
   "file_extension": ".py",
   "mimetype": "text/x-python",
   "name": "python",
   "nbconvert_exporter": "python",
   "pygments_lexer": "ipython3",
   "version": "3.12.3"
  }
 },
 "nbformat": 4,
 "nbformat_minor": 2
}
