{
 "cells": [
  {
   "cell_type": "code",
   "execution_count": 1,
   "metadata": {},
   "outputs": [],
   "source": [
    "import pandas as pd\n",
    "import matplotlib.pyplot as plt\n",
    "import re\n",
    "import numpy as np\n",
    "import sys\n"
   ]
  },
  {
   "cell_type": "code",
   "execution_count": null,
   "metadata": {},
   "outputs": [],
   "source": [
    "import json"
   ]
  },
  {
   "cell_type": "code",
   "execution_count": null,
   "metadata": {},
   "outputs": [],
   "source": [
    "f = open('../Results/sampleN20.json')\n",
    "\n",
    "# returns JSON object as \n",
    "# a dictionary\n",
    "data = json.load(f)\n",
    "# Print all keys in the JSON dictionary\n",
    "for key in data.keys():\n",
    "    print(key)"
   ]
  },
  {
   "cell_type": "code",
   "execution_count": null,
   "metadata": {},
   "outputs": [],
   "source": [
    "S_ising = data['S']\n",
    "S_exp = data['S_obs']"
   ]
  },
  {
   "cell_type": "code",
   "execution_count": null,
   "metadata": {},
   "outputs": [],
   "source": [
    "plt.plot(S_exp,S_ising,'o')\n",
    "plt.show()"
   ]
  },
  {
   "cell_type": "code",
   "execution_count": 17,
   "metadata": {},
   "outputs": [],
   "source": [
    "import os\n",
    "import glob\n",
    "\n",
    "filename = f\"multithread_pc.sh\"\n",
    "\n",
    "a = \"#!/bin/bash\\n\\n\"\n",
    "\n",
    "b = \"# Define uma função que contêm o código para rodar em paralelo\\n\"\n",
    "\n",
    "c = \"run_code() {\\n\\t\"\n",
    "d = f\"time ../bin/bmc ../inputs/$1\\n\"\n",
    "e = \"}\\n\"\n",
    "f = \"# Exportar a função usando o módulo Parallel\\n\"\n",
    "g = \"export -f run_code\\n\\n\"\n",
    "\n",
    "path_d = f\"../inputs\"\n",
    "all_files = glob.glob(os.path.join(path_d,\"*.json\"))\n",
    "list_of_arguments = [V[2] for V in os.walk(path_d)][0]\n",
    "list_of_arguments = str(list_of_arguments)\n",
    "list_of_arguments = list_of_arguments.replace(',', '')\n",
    "\n",
    "h = f\"arguments=(\" \n",
    "i = list_of_arguments[1:-1] + \")\\n\"\n",
    "j = \"parallel run_code :::\\t\" +  \"\"\" \"${arguments[@]}\"  \"\"\" \"\\n\\t\"\n",
    "list_for_loop = [a,b,c,d,e,g,h,i,j]\n",
    "l = open(\"../Scripts/\" + filename, \"w\") # argument w: write if don't exist file\n",
    "for k in list_for_loop:\n",
    "    l.write(k)\n",
    "l.close()\n",
    "\n",
    "def permission_run():\n",
    "    os.system(f\"chmod 700 ../Scripts/\" + filename)"
   ]
  },
  {
   "cell_type": "code",
   "execution_count": 16,
   "metadata": {},
   "outputs": [],
   "source": [
    "permission_run()"
   ]
  },
  {
   "cell_type": "code",
   "execution_count": 40,
   "metadata": {},
   "outputs": [
    {
     "name": "stdout",
     "output_type": "stream",
     "text": [
      "value1: 8.90e-05, value2: 4.20e-05, value3: 3000\n"
     ]
    },
    {
     "data": {
      "image/png": "[encoded data removed]",
      "text/plain": [
       "<Figure size 640x480 with 1 Axes>"
      ]
     },
     "metadata": {},
     "output_type": "display_data"
    }
   ],
   "source": [
    "import tkinter as tk\n",
    "from tkinter import filedialog\n",
    "import matplotlib.pyplot as plt\n",
    "import os\n",
    "import re\n",
    "\n",
    "# Função para selecionar o arquivo .txt\n",
    "def selecionar_arquivo():\n",
    "    root = tk.Tk()\n",
    "    root.withdraw()  # Esconde a janela principal do Tkinter\n",
    "    \n",
    "    \n",
    "    arquivo = filedialog.askopenfilename(\n",
    "        title=\"Selecione um arquivo TXT\",\n",
    "        filetypes=((\"Text files\", \"*.txt\"), (\"All files\", \"*.*\"))\n",
    "    )\n",
    "    \n",
    "    return arquivo\n",
    "\n",
    "def minimum_values(arquivo):\n",
    "    pattern = r\"err_sampleN20_j_min_([+-]?\\d+\\.?\\d*[eE][+-]?\\d+|[+-]?\\d+\\.?\\d*)_h_min_([+-]?\\d+\\.?\\d*[eE][+-]?\\d+|[+-]?\\d+\\.?\\d*)_t_eq_(\\d+)_metropolis\\.txt\"\n",
    "\n",
    "    file_name = os.path.basename(arquivo)\n",
    "    match = re.match(pattern, file_name)\n",
    "    \n",
    "    if match:\n",
    "        # Extract values as strings\n",
    "        j_min_match, h_min_match, t_eq_match = match.groups()[0:3]\n",
    "        \n",
    "        # Convert to float and format in scientific notation\n",
    "        j_min_sci = format(float(j_min_match), \".2e\")\n",
    "        h_min_sci = format(float(h_min_match), \".2e\")\n",
    "        t_eq = int(t_eq_match)  # Assuming t_eq is an integer\n",
    "    \n",
    "    return j_min_sci, h_min_sci, t_eq\n",
    "\n",
    "# Função para carregar dados do arquivo TXT\n",
    "def carregar_dados(arquivo, J):\n",
    "    key1_values = []\n",
    "    key2_values = []\n",
    "    \n",
    "    with open(arquivo, 'r') as f:\n",
    "        for linha in f:\n",
    "            valores = linha.split()  # Divide a linha pelos espaços em branco\n",
    "            if len(valores) >= 2:  # Verifica se há pelo menos duas colunas\n",
    "                if(J==True):\n",
    "                    key1_values.append(float(valores[0]))  # Primeira coluna\n",
    "                    key2_values.append(float(valores[1]))  # Segunda coluna\n",
    "                else:\n",
    "                    key1_values.append(float(valores[0]))  # Primeira coluna\n",
    "                    key2_values.append(float(valores[2]))  # Segunda coluna\n",
    "    \n",
    "    return key1_values, key2_values\n",
    "\n",
    "# Função principal para plotar o gráfico\n",
    "def plotar_grafico(key1_values, key2_values, J):\n",
    "    if(J==True):\n",
    "        ylabel = 'Err_J'\n",
    "    else:\n",
    "        ylabel = 'Err_h'\n",
    "    plt.plot(key1_values, key2_values,color='k')\n",
    "    \n",
    "    plt.xlabel('MCS')\n",
    "    plt.ylabel(ylabel)\n",
    "    plt.yscale(\"log\")\n",
    "    plt.title('Gráfico de Key1 vs Key2')\n",
    "    plt.show()\n",
    "\n",
    "# Main\n",
    "if __name__ == \"__main__\":\n",
    "    j = True\n",
    "    arquivo_selecionado = selecionar_arquivo()\n",
    "    if arquivo_selecionado:\n",
    "        key1_values, key2_values = carregar_dados(arquivo_selecionado, J=j)\n",
    "        min_j, min_h, t_eq = minimum_values(arquivo_selecionado)\n",
    "        \n",
    "        plotar_grafico(key1_values, key2_values, J=j)\n",
    "    else:\n",
    "        print(\"Nenhum arquivo foi selecionado.\")"
   ]
  },
  {
   "cell_type": "code",
   "execution_count": 36,
   "metadata": {},
   "outputs": [
    {
     "name": "stdout",
     "output_type": "stream",
     "text": [
      "Extracted values: value1=1.23e-10, value2=4.56e+20, value3=30\n",
      "value1: 1.23e-10, value2: 4.56e+20, value3: 3.00e+01\n"
     ]
    }
   ],
   "source": [
    "import re\n",
    "\n",
    "# Updated pattern to match scientific notation values and ensure proper capture\n",
    "pattern = r\"err_sampleN20_j_min_([+-]?\\d+\\.?\\d*[eE][+-]?\\d+|[+-]?\\d+\\.?\\d*)_h_min_([+-]?\\d+\\.?\\d*[eE][+-]?\\d+|[+-]?\\d+\\.?\\d*)_t_eq_(\\d+)_metropolis\\.txt\"\n",
    "\n",
    "# Sample filename\n",
    "filename = \"err_sampleN20_j_min_1.23e-10_h_min_4.56e+20_t_eq_30_metropolis.txt\"\n",
    "\n",
    "# Match the pattern\n",
    "match = re.match(pattern, filename)\n",
    "\n",
    "if match:\n",
    "    # Extract values as strings\n",
    "    value1, value2, value3 = match.groups()\n",
    "    \n",
    "    # Print extracted values for debugging\n",
    "    print(f\"Extracted values: value1={value1}, value2={value2}, value3={value3}\")\n",
    "    \n",
    "    try:\n",
    "        # Convert to float and format in scientific notation\n",
    "        value1_sci = format(float(value1), \".2e\")\n",
    "        value2_sci = format(float(value2), \".2e\")\n",
    "        value3_sci = format(float(value3), \".2e\")  # Assuming value3 is an integer\n",
    "        \n",
    "        print(f\"value1: {value1_sci}, value2: {value2_sci}, value3: {value3_sci}\")\n",
    "    except ValueError as e:\n",
    "        print(f\"Error converting value: {e}\")\n",
    "else:\n",
    "    print(\"No match found\")\n"
   ]
  }
 ],
 "metadata": {
  "kernelspec": {
   "display_name": "Python 3",
   "language": "python",
   "name": "python3"
  },
  "language_info": {
   "codemirror_mode": {
    "name": "ipython",
    "version": 3
   },
   "file_extension": ".py",
   "mimetype": "text/x-python",
   "name": "python",
   "nbconvert_exporter": "python",
   "pygments_lexer": "ipython3",
   "version": "3.12.3"
  }
 },
 "nbformat": 4,
 "nbformat_minor": 2
}
