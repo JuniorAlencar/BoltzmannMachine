{
 "cells": [
  {
   "cell_type": "code",
   "execution_count": 1,
   "metadata": {},
   "outputs": [],
   "source": [
    "from src.comp_analysis import *\n",
    "plt.style.use('properties.mplstyle')"
   ]
  },
  {
   "cell_type": "code",
   "execution_count": 2,
   "metadata": {},
   "outputs": [
    {
     "ename": "FileNotFoundError",
     "evalue": "[Errno 2] No such file or directory: '../Results_Metropolis/SeparateData/mi-exp/mi_exp_data_synteticN20_err_j_1.50e-03_err_h_1.00e-03_mteq_150_mrelx_2.dat'",
     "output_type": "error",
     "traceback": [
      "\u001b[31m---------------------------------------------------------------------------\u001b[39m",
      "\u001b[31mFileNotFoundError\u001b[39m                         Traceback (most recent call last)",
      "\u001b[36mCell\u001b[39m\u001b[36m \u001b[39m\u001b[32mIn[2]\u001b[39m\u001b[32m, line 3\u001b[39m\n\u001b[32m      1\u001b[39m \u001b[38;5;66;03m# remove ising files empty and create comparative files don't empty\u001b[39;00m\n\u001b[32m      2\u001b[39m method = \u001b[33m\"\u001b[39m\u001b[33mmetropolis\u001b[39m\u001b[33m\"\u001b[39m\n\u001b[32m----> \u001b[39m\u001b[32m3\u001b[39m \u001b[43mclean_files\u001b[49m\u001b[43m(\u001b[49m\u001b[43mmethod\u001b[49m\u001b[43m)\u001b[49m\n",
      "\u001b[36mFile \u001b[39m\u001b[32m~/Documents/BoltzmannMachine/jupyter/src/comp_analysis.py:214\u001b[39m, in \u001b[36mclean_files\u001b[39m\u001b[34m(method)\u001b[39m\n\u001b[32m    211\u001b[39m         \u001b[38;5;28;01mpass\u001b[39;00m\n\u001b[32m    213\u001b[39m \u001b[38;5;28;01mfor\u001b[39;00m i \u001b[38;5;129;01min\u001b[39;00m \u001b[38;5;28mrange\u001b[39m(\u001b[38;5;28mlen\u001b[39m(all_files_ising)):\n\u001b[32m--> \u001b[39m\u001b[32m214\u001b[39m     \u001b[38;5;28;01mwith\u001b[39;00m \u001b[38;5;28;43mopen\u001b[39;49m\u001b[43m(\u001b[49m\u001b[43mall_files_exp\u001b[49m\u001b[43m[\u001b[49m\u001b[43mi\u001b[49m\u001b[43m]\u001b[49m\u001b[43m,\u001b[49m\u001b[43m \u001b[49m\u001b[33;43m'\u001b[39;49m\u001b[33;43mr\u001b[39;49m\u001b[33;43m'\u001b[39;49m\u001b[43m)\u001b[49m \u001b[38;5;28;01mas\u001b[39;00m file_exp, \u001b[38;5;28mopen\u001b[39m(all_files_ising[i],\u001b[33m'\u001b[39m\u001b[33mr\u001b[39m\u001b[33m'\u001b[39m) \u001b[38;5;28;01mas\u001b[39;00m file_ising, \u001b[38;5;28mopen\u001b[39m(all_files_comp[i],\u001b[33m'\u001b[39m\u001b[33mw\u001b[39m\u001b[33m'\u001b[39m) \u001b[38;5;28;01mas\u001b[39;00m file_comp:\n\u001b[32m    215\u001b[39m         \u001b[38;5;66;03m# Ler todas as linhas dos arquivos 1 e 2\u001b[39;00m\n\u001b[32m    216\u001b[39m         lines1 = file_exp.readlines()\n\u001b[32m    217\u001b[39m         lines2 = file_ising.readlines()\n",
      "\u001b[31mFileNotFoundError\u001b[39m: [Errno 2] No such file or directory: '../Results_Metropolis/SeparateData/mi-exp/mi_exp_data_synteticN20_err_j_1.50e-03_err_h_1.00e-03_mteq_150_mrelx_2.dat'"
     ]
    }
   ],
   "source": [
    "# remove ising files empty and create comparative files don't empty\n",
    "method = \"metropolis\"\n",
    "clean_files(method)"
   ]
  },
  {
   "cell_type": "code",
   "execution_count": null,
   "metadata": {},
   "outputs": [],
   "source": [
    "file = \"../Results/swendsen_wang/Comparative/correlation/Pij_exp_ising_data_synteticN20_err_j_1.00e-01_err_h_1.00e-01_mteq_150_mrelx_2.dat\"\n",
    "A = load_data(file)\n",
    "\n",
    "for prop, values in A[1].items():\n",
    "    for key in values:  # 'exp' e 'ising'\n",
    "        series = values[key]\n",
    "        if series.isna().any():\n",
    "            print(f\"⚠️  NaN found in '{prop}' → '{key}'\")\n",
    "\n",
    "    "
   ]
  },
  {
   "cell_type": "code",
   "execution_count": null,
   "metadata": {},
   "outputs": [],
   "source": [
    "#load_data -> without mteq and mrelx\n",
    "#load_data2 -> with mteq and mrelx\n",
    "if __name__ == \"__main__\":\n",
    "    arquivo_selecionado = select_file()\n",
    "    if arquivo_selecionado:\n",
    "        props, all_data = load_data(arquivo_selecionado)\n",
    "        plotting_graphs(props, all_data)\n",
    "    else:\n",
    "        print(\"Nenhum arquivo foi selecionado.\")"
   ]
  },
  {
   "cell_type": "code",
   "execution_count": null,
   "metadata": {},
   "outputs": [],
   "source": [
    "h_synt = pd.read_csv(\"../tests/synthetic/hi/h_synteticN20.dat\", sep=' ')\n",
    "h_real = pd.read_csv(\"../Results/exact/SeparateData/hi/hi_data_synteticN20_err_j_1.00e-05_err_h_1.00e-04_mteq_150_mrelx_2.dat\", sep=' ')\n",
    "h_s = h_synt[\"h_i\"]\n",
    "h_m = h_real[\"h_i\"]\n",
    "plt.plot(h_s, h_m, 'o')\n",
    "plt.plot(h_s, h_s)\n",
    "plt.xlabel(\"$h_{real}$\")\n",
    "plt.ylabel(\"$h_{exact}$\")\n",
    "plt.show()"
   ]
  },
  {
   "cell_type": "code",
   "execution_count": null,
   "metadata": {},
   "outputs": [],
   "source": [
    "J_synt = pd.read_csv(\"../tests/synthetic/Jij/J_synteticN20.dat\", sep=' ')\n",
    "J_real = pd.read_csv(\"../Results/exact/SeparateData/Jij/Jij_data_synteticN20data_synteticN20_err_j_1.00e-05_err_h_1.00e-04_mteq_150_mrelx_2.dat\", sep=' ')\n",
    "J_s = J_synt[\"J_ij\"]\n",
    "J_m = J_real[\"J_ij\"]\n",
    "plt.plot(J_s, J_m, 'o')\n",
    "plt.plot(J_s, J_s)\n",
    "plt.xlabel(\"$J_{real}$\")\n",
    "plt.ylabel(\"$J_{exact}$\")\n",
    "plt.show()"
   ]
  },
  {
   "cell_type": "code",
   "execution_count": null,
   "metadata": {},
   "outputs": [],
   "source": [
    "df_props_RMSE = RMSE_properties()\n",
    "results_sorted= minimum_teq(df_props_RMSE)"
   ]
  },
  {
   "cell_type": "code",
   "execution_count": null,
   "metadata": {},
   "outputs": [],
   "source": [
    "9000/30, 270/30"
   ]
  },
  {
   "cell_type": "code",
   "execution_count": null,
   "metadata": {},
   "outputs": [],
   "source": [
    "min_rmse_per_property = results_sorted.loc[results_sorted.groupby('propertie')['RMSE'].idxmin()].reset_index(drop=True)\n",
    "min_rmse_per_property"
   ]
  },
  {
   "cell_type": "code",
   "execution_count": null,
   "metadata": {},
   "outputs": [],
   "source": [
    "props = results_sorted[\"propertie\"].unique()\n",
    "colors = [\"black\", \"#03AC13\", \"#00019a\", \"#fe0000\", \"orange\", \"#380282\"]\n",
    "\n",
    "plt.figure(figsize=(14,6))\n",
    "for p in range(len(props)): \n",
    "    df_filter = results_sorted[results_sorted[\"propertie\"]==props[p]]\n",
    "    plt.plot(df_filter[\"teq\"],df_filter[\"RMSE\"],'o',color=colors[p], label=props[p])\n",
    "\n",
    "#plt.yscale(\"log\")\n",
    "plt.legend(prop={\"size\":12}, fancybox=True, framealpha=0.0, loc='center left', bbox_to_anchor=(1, .5))\n",
    "plt.show()"
   ]
  },
  {
   "cell_type": "code",
   "execution_count": null,
   "metadata": {},
   "outputs": [],
   "source": [
    "\n",
    "from matplotlib.ticker import (MultipleLocator, AutoMinorLocator)\n",
    "fig, ax = plt.subplots(2,3,figsize=(10, 7))\n",
    "colors = [\"black\", \"#03AC13\", \"#00019a\", \"#fe0000\", \"orange\", \"#380282\"]\n",
    "linestyles = ['-', '-', '-', '-','-']\n",
    "markers = ['o', 'v', 's', '^', 'D', \"*\"]\n",
    "\n",
    "markersize = 18\n",
    "thickness_axes = 1.4\n",
    "\n",
    "props = results_sorted[\"propertie\"].unique()\n",
    "\n",
    "\n",
    "ax_all = [(j, i) for j in range(2) for i in range(3)]\n",
    "p = 0\n",
    "\n",
    "df_filter_1, df_filter_2, df_filter_3, df_filter_4, df_filter_5, df_filter_6 = results_sorted[results_sorted[\"propertie\"]==props[0]], results_sorted[results_sorted[\"propertie\"]==props[1]], results_sorted[results_sorted[\"propertie\"]==props[2]], results_sorted[results_sorted[\"propertie\"]==props[3]], results_sorted[results_sorted[\"propertie\"]==props[4]], results_sorted[results_sorted[\"propertie\"]==props[5]]\n",
    "\n",
    "ax[0, 0].plot(df_filter_1[\"teq\"],df_filter_1[\"RMSE\"],\n",
    "    linestyle='-', color=colors[0], marker='o', markeredgecolor=colors[0], label=props[0],\n",
    "    markersize=markersize, markerfacecolor='none')\n",
    "\n",
    "ax[0, 1].plot(df_filter_2[\"teq\"],df_filter_2[\"RMSE\"],\n",
    "    linestyle='-', color=colors[1], marker='o', markeredgecolor=colors[1], label=props[1],\n",
    "    markersize=markersize, markerfacecolor='none')\n",
    "\n",
    "ax[0, 2].plot(df_filter_3[\"teq\"],df_filter_3[\"RMSE\"],\n",
    "    linestyle='-', color=colors[2], marker='o', markeredgecolor=colors[2], label=props[2],\n",
    "    markersize=markersize, markerfacecolor='none')\n",
    "\n",
    "ax[1, 0].plot(df_filter_4[\"teq\"],df_filter_4[\"RMSE\"],\n",
    "    linestyle='-', color=colors[3], marker='o', markeredgecolor=colors[3], label=props[3],\n",
    "    markersize=markersize, markerfacecolor='none')    \n",
    "\n",
    "ax[1, 1].plot(df_filter_5[\"teq\"],df_filter_5[\"RMSE\"],\n",
    "    linestyle='-', color=colors[4], marker='o', markeredgecolor=colors[4], label=props[4],\n",
    "    markersize=markersize, markerfacecolor='none') \n",
    "\n",
    "ax[1, 2].plot(df_filter_6[\"teq\"],df_filter_6[\"RMSE\"],\n",
    "    linestyle='-', color=colors[5], marker='o', markeredgecolor=colors[5], label=props[5],\n",
    "    markersize=markersize, markerfacecolor='none') \n",
    "for (j, i) in ax_all:\n",
    "    # ax[j, i].tick_params('both', labelsize=13)\n",
    "    # ax[j, i].xaxis.set_major_locator(MultipleLocator(1))\n",
    "    # ax[j, i].xaxis.set_major_formatter('{x:.0f}')\n",
    "    #ax[j, i].xaxis.set_minor_locator(MultipleLocator(.5))\n",
    "\n",
    "    # Set legend and other parameters\n",
    "    #ax[j, i].legend(prop={\"size\":21}, fancybox=True, framealpha=0.0)\n",
    "    ax[j, i].tick_params(which='major', width=thickness_axes, length=8, direction=\"in\", labelsize=13)\n",
    "\n",
    "    # Set thickness for spines\n",
    "    thickness_axes = 2.4\n",
    "    for spine in ax[j, i].spines.values():\n",
    "        spine.set_linewidth(thickness_axes)\n",
    "    \n",
    "ax[0,0].set_ylabel(r\"$\\langle RMSE \\rangle $\", size=15)\n",
    "ax[1,0].set_ylabel(r\"$\\langle RMSE \\rangle $\", size=15)\n",
    "\n",
    "ax[1,0].set_xlabel(r\"teq\", size=30)\n",
    "ax[1,1].set_xlabel(r\"teq\", size=30)\n",
    "\n",
    "plt.legend(prop={\"size\":12}, fancybox=True, framealpha=0.0, loc='center left', bbox_to_anchor=(1, 1))\n",
    "plt.show()\n"
   ]
  }
 ],
 "metadata": {
  "kernelspec": {
   "display_name": "Python 3",
   "language": "python",
   "name": "python3"
  },
  "language_info": {
   "codemirror_mode": {
    "name": "ipython",
    "version": 3
   },
   "file_extension": ".py",
   "mimetype": "text/x-python",
   "name": "python",
   "nbconvert_exporter": "python",
   "pygments_lexer": "ipython3",
   "version": "3.13.3"
  }
 },
 "nbformat": 4,
 "nbformat_minor": 2
}
